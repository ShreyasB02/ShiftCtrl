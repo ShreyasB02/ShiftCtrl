{
  "nbformat": 4,
  "nbformat_minor": 0,
  "metadata": {
    "colab": {
      "name": "Hash.ipynb",
      "provenance": [],
      "collapsed_sections": []
    },
    "kernelspec": {
      "name": "python3",
      "display_name": "Python 3"
    },
    "language_info": {
      "name": "python"
    }
  },
  "cells": [
    {
      "cell_type": "markdown",
      "source": [
        "HASH"
      ],
      "metadata": {
        "id": "dHB4UA2oiozm"
      }
    },
    {
      "cell_type": "code",
      "source": [
        "import pandas as pd\n",
        "from sklearn.model_selection import train_test_split\n",
        "import numpy as np\n",
        "import tensorflow as tf\n",
        "from tensorflow import keras\n",
        "from tensorflow.keras import layers\n",
        "import numpy as np\n",
        "from matplotlib import pyplot as plt\n",
        "import sklearn as sk\n",
        "from tensorflow.keras.layers.experimental import preprocessing"
      ],
      "metadata": {
        "id": "KVN4aVUoimbs"
      },
      "execution_count": null,
      "outputs": []
    },
    {
      "cell_type": "code",
      "source": [
        "df=pd.read_csv(\"/content/drive/MyDrive/Hash/heartd.csv\")\n",
        "sample_size=len(df.index)\n",
        "df"
      ],
      "metadata": {
        "colab": {
          "base_uri": "https://localhost:8080/",
          "height": 419
        },
        "id": "zd1Ncl0TkDvu",
        "outputId": "f2b75209-1d98-425c-a843-37a7ce29a225"
      },
      "execution_count": null,
      "outputs": [
        {
          "output_type": "execute_result",
          "data": {
            "text/html": [
              "\n",
              "  <div id=\"df-0d027da5-3f4f-4b2a-b3c9-1cd3fadf9634\">\n",
              "    <div class=\"colab-df-container\">\n",
              "      <div>\n",
              "<style scoped>\n",
              "    .dataframe tbody tr th:only-of-type {\n",
              "        vertical-align: middle;\n",
              "    }\n",
              "\n",
              "    .dataframe tbody tr th {\n",
              "        vertical-align: top;\n",
              "    }\n",
              "\n",
              "    .dataframe thead th {\n",
              "        text-align: right;\n",
              "    }\n",
              "</style>\n",
              "<table border=\"1\" class=\"dataframe\">\n",
              "  <thead>\n",
              "    <tr style=\"text-align: right;\">\n",
              "      <th></th>\n",
              "      <th>age</th>\n",
              "      <th>sex</th>\n",
              "      <th>Bp</th>\n",
              "      <th>Hr</th>\n",
              "      <th>os</th>\n",
              "      <th>output</th>\n",
              "    </tr>\n",
              "  </thead>\n",
              "  <tbody>\n",
              "    <tr>\n",
              "      <th>0</th>\n",
              "      <td>62</td>\n",
              "      <td>1</td>\n",
              "      <td>130</td>\n",
              "      <td>146</td>\n",
              "      <td>93.3</td>\n",
              "      <td>1</td>\n",
              "    </tr>\n",
              "    <tr>\n",
              "      <th>1</th>\n",
              "      <td>44</td>\n",
              "      <td>0</td>\n",
              "      <td>108</td>\n",
              "      <td>175</td>\n",
              "      <td>94.0</td>\n",
              "      <td>1</td>\n",
              "    </tr>\n",
              "    <tr>\n",
              "      <th>2</th>\n",
              "      <td>64</td>\n",
              "      <td>1</td>\n",
              "      <td>125</td>\n",
              "      <td>131</td>\n",
              "      <td>97.8</td>\n",
              "      <td>0</td>\n",
              "    </tr>\n",
              "    <tr>\n",
              "      <th>3</th>\n",
              "      <td>41</td>\n",
              "      <td>1</td>\n",
              "      <td>135</td>\n",
              "      <td>132</td>\n",
              "      <td>95.6</td>\n",
              "      <td>1</td>\n",
              "    </tr>\n",
              "    <tr>\n",
              "      <th>4</th>\n",
              "      <td>54</td>\n",
              "      <td>1</td>\n",
              "      <td>120</td>\n",
              "      <td>147</td>\n",
              "      <td>95.4</td>\n",
              "      <td>1</td>\n",
              "    </tr>\n",
              "    <tr>\n",
              "      <th>...</th>\n",
              "      <td>...</td>\n",
              "      <td>...</td>\n",
              "      <td>...</td>\n",
              "      <td>...</td>\n",
              "      <td>...</td>\n",
              "      <td>...</td>\n",
              "    </tr>\n",
              "    <tr>\n",
              "      <th>209</th>\n",
              "      <td>77</td>\n",
              "      <td>1</td>\n",
              "      <td>125</td>\n",
              "      <td>162</td>\n",
              "      <td>96.8</td>\n",
              "      <td>0</td>\n",
              "    </tr>\n",
              "    <tr>\n",
              "      <th>210</th>\n",
              "      <td>53</td>\n",
              "      <td>1</td>\n",
              "      <td>142</td>\n",
              "      <td>111</td>\n",
              "      <td>95.3</td>\n",
              "      <td>1</td>\n",
              "    </tr>\n",
              "    <tr>\n",
              "      <th>211</th>\n",
              "      <td>62</td>\n",
              "      <td>0</td>\n",
              "      <td>124</td>\n",
              "      <td>163</td>\n",
              "      <td>94.4</td>\n",
              "      <td>1</td>\n",
              "    </tr>\n",
              "    <tr>\n",
              "      <th>212</th>\n",
              "      <td>63</td>\n",
              "      <td>1</td>\n",
              "      <td>145</td>\n",
              "      <td>150</td>\n",
              "      <td>93.0</td>\n",
              "      <td>1</td>\n",
              "    </tr>\n",
              "    <tr>\n",
              "      <th>213</th>\n",
              "      <td>46</td>\n",
              "      <td>0</td>\n",
              "      <td>138</td>\n",
              "      <td>152</td>\n",
              "      <td>95.6</td>\n",
              "      <td>1</td>\n",
              "    </tr>\n",
              "  </tbody>\n",
              "</table>\n",
              "<p>214 rows × 6 columns</p>\n",
              "</div>\n",
              "      <button class=\"colab-df-convert\" onclick=\"convertToInteractive('df-0d027da5-3f4f-4b2a-b3c9-1cd3fadf9634')\"\n",
              "              title=\"Convert this dataframe to an interactive table.\"\n",
              "              style=\"display:none;\">\n",
              "        \n",
              "  <svg xmlns=\"http://www.w3.org/2000/svg\" height=\"24px\"viewBox=\"0 0 24 24\"\n",
              "       width=\"24px\">\n",
              "    <path d=\"M0 0h24v24H0V0z\" fill=\"none\"/>\n",
              "    <path d=\"M18.56 5.44l.94 2.06.94-2.06 2.06-.94-2.06-.94-.94-2.06-.94 2.06-2.06.94zm-11 1L8.5 8.5l.94-2.06 2.06-.94-2.06-.94L8.5 2.5l-.94 2.06-2.06.94zm10 10l.94 2.06.94-2.06 2.06-.94-2.06-.94-.94-2.06-.94 2.06-2.06.94z\"/><path d=\"M17.41 7.96l-1.37-1.37c-.4-.4-.92-.59-1.43-.59-.52 0-1.04.2-1.43.59L10.3 9.45l-7.72 7.72c-.78.78-.78 2.05 0 2.83L4 21.41c.39.39.9.59 1.41.59.51 0 1.02-.2 1.41-.59l7.78-7.78 2.81-2.81c.8-.78.8-2.07 0-2.86zM5.41 20L4 18.59l7.72-7.72 1.47 1.35L5.41 20z\"/>\n",
              "  </svg>\n",
              "      </button>\n",
              "      \n",
              "  <style>\n",
              "    .colab-df-container {\n",
              "      display:flex;\n",
              "      flex-wrap:wrap;\n",
              "      gap: 12px;\n",
              "    }\n",
              "\n",
              "    .colab-df-convert {\n",
              "      background-color: #E8F0FE;\n",
              "      border: none;\n",
              "      border-radius: 50%;\n",
              "      cursor: pointer;\n",
              "      display: none;\n",
              "      fill: #1967D2;\n",
              "      height: 32px;\n",
              "      padding: 0 0 0 0;\n",
              "      width: 32px;\n",
              "    }\n",
              "\n",
              "    .colab-df-convert:hover {\n",
              "      background-color: #E2EBFA;\n",
              "      box-shadow: 0px 1px 2px rgba(60, 64, 67, 0.3), 0px 1px 3px 1px rgba(60, 64, 67, 0.15);\n",
              "      fill: #174EA6;\n",
              "    }\n",
              "\n",
              "    [theme=dark] .colab-df-convert {\n",
              "      background-color: #3B4455;\n",
              "      fill: #D2E3FC;\n",
              "    }\n",
              "\n",
              "    [theme=dark] .colab-df-convert:hover {\n",
              "      background-color: #434B5C;\n",
              "      box-shadow: 0px 1px 3px 1px rgba(0, 0, 0, 0.15);\n",
              "      filter: drop-shadow(0px 1px 2px rgba(0, 0, 0, 0.3));\n",
              "      fill: #FFFFFF;\n",
              "    }\n",
              "  </style>\n",
              "\n",
              "      <script>\n",
              "        const buttonEl =\n",
              "          document.querySelector('#df-0d027da5-3f4f-4b2a-b3c9-1cd3fadf9634 button.colab-df-convert');\n",
              "        buttonEl.style.display =\n",
              "          google.colab.kernel.accessAllowed ? 'block' : 'none';\n",
              "\n",
              "        async function convertToInteractive(key) {\n",
              "          const element = document.querySelector('#df-0d027da5-3f4f-4b2a-b3c9-1cd3fadf9634');\n",
              "          const dataTable =\n",
              "            await google.colab.kernel.invokeFunction('convertToInteractive',\n",
              "                                                     [key], {});\n",
              "          if (!dataTable) return;\n",
              "\n",
              "          const docLinkHtml = 'Like what you see? Visit the ' +\n",
              "            '<a target=\"_blank\" href=https://colab.research.google.com/notebooks/data_table.ipynb>data table notebook</a>'\n",
              "            + ' to learn more about interactive tables.';\n",
              "          element.innerHTML = '';\n",
              "          dataTable['output_type'] = 'display_data';\n",
              "          await google.colab.output.renderOutput(dataTable, element);\n",
              "          const docLink = document.createElement('div');\n",
              "          docLink.innerHTML = docLinkHtml;\n",
              "          element.appendChild(docLink);\n",
              "        }\n",
              "      </script>\n",
              "    </div>\n",
              "  </div>\n",
              "  "
            ],
            "text/plain": [
              "     age  sex   Bp   Hr    os  output\n",
              "0     62    1  130  146  93.3       1\n",
              "1     44    0  108  175  94.0       1\n",
              "2     64    1  125  131  97.8       0\n",
              "3     41    1  135  132  95.6       1\n",
              "4     54    1  120  147  95.4       1\n",
              "..   ...  ...  ...  ...   ...     ...\n",
              "209   77    1  125  162  96.8       0\n",
              "210   53    1  142  111  95.3       1\n",
              "211   62    0  124  163  94.4       1\n",
              "212   63    1  145  150  93.0       1\n",
              "213   46    0  138  152  95.6       1\n",
              "\n",
              "[214 rows x 6 columns]"
            ]
          },
          "metadata": {},
          "execution_count": 38
        }
      ]
    },
    {
      "cell_type": "code",
      "source": [
        "#Set x and y\n",
        "x=df.loc[:,:'os']\n",
        "y=df.loc[:,['output']]\n",
        "print(x.head())\n",
        "print(x.shape)\n",
        "print(y.shape)\n",
        "print(x.to_numpy().shape)"
      ],
      "metadata": {
        "colab": {
          "base_uri": "https://localhost:8080/"
        },
        "id": "cM_SGpc8pDWp",
        "outputId": "0819909b-b7a4-41dc-d13a-c41b06e8af4d"
      },
      "execution_count": null,
      "outputs": [
        {
          "output_type": "stream",
          "name": "stdout",
          "text": [
            "   age  sex   Bp   Hr    os\n",
            "0   62    1  130  146  93.3\n",
            "1   44    0  108  175  94.0\n",
            "2   64    1  125  131  97.8\n",
            "3   41    1  135  132  95.6\n",
            "4   54    1  120  147  95.4\n",
            "(214, 5)\n",
            "(214, 1)\n",
            "(214, 5)\n"
          ]
        }
      ]
    },
    {
      "cell_type": "code",
      "source": [
        "#Preprocessing://\n",
        "scaler=sk.preprocessing.StandardScaler().fit(x)\n",
        "X=scaler.transform(x)\n",
        "\n",
        "num_classes=2\n",
        "Y=keras.utils.to_categorical(y,num_classes)"
      ],
      "metadata": {
        "id": "ScG-GubrqsrX"
      },
      "execution_count": null,
      "outputs": []
    },
    {
      "cell_type": "code",
      "source": [
        "print(\"X_s is\",X[2])\n",
        "X=X.reshape(sample_size,5).astype('float32')\n",
        "Y=Y.reshape(sample_size,2).astype('float32')\n",
        "print(\"X.shape is \",X.shape,\"Y shape is \",Y.shape)"
      ],
      "metadata": {
        "colab": {
          "base_uri": "https://localhost:8080/"
        },
        "id": "A_g660TnsBNz",
        "outputId": "de282f84-ebe8-431b-8052-19682a925381"
      },
      "execution_count": null,
      "outputs": [
        {
          "output_type": "stream",
          "name": "stdout",
          "text": [
            "X_s is [ 1.07286375  0.67511652 -0.41055574 -0.88243845  0.91974465]\n",
            "X.shape is  (214, 5) Y shape is  (214, 2)\n"
          ]
        }
      ]
    },
    {
      "cell_type": "code",
      "source": [
        "\n",
        "dataset=tf.data.Dataset.from_tensor_slices((X,Y))"
      ],
      "metadata": {
        "id": "C7tjmo_BsJU_"
      },
      "execution_count": null,
      "outputs": []
    },
    {
      "cell_type": "code",
      "source": [
        "c=0;\n",
        "for element in dataset :\n",
        "  print(element)\n",
        "  break;  \n"
      ],
      "metadata": {
        "colab": {
          "base_uri": "https://localhost:8080/"
        },
        "id": "-hEtIrrHAd_W",
        "outputId": "9d201928-5519-4caf-c9ce-5271043cbfe9"
      },
      "execution_count": null,
      "outputs": [
        {
          "output_type": "stream",
          "name": "stdout",
          "text": [
            "(<tf.Tensor: shape=(5,), dtype=float32, numpy=\n",
            "array([ 0.84952444,  0.67511654, -0.12040076, -0.20233582, -1.6381513 ],\n",
            "      dtype=float32)>, <tf.Tensor: shape=(2,), dtype=float32, numpy=array([0., 1.], dtype=float32)>)\n"
          ]
        }
      ]
    },
    {
      "cell_type": "code",
      "source": [
        "train_size=int(0.8*sample_size)\n",
        "test_size=int(0.1*sample_size)\n",
        "val_size=int(0.1*sample_size)\n",
        "print(\"Train size,Test size,Val size\",train_size,test_size,val_size)\n",
        "\n",
        "train_dataset=dataset.take(train_size)\n",
        "test_dataset=dataset.skip(train_size)\n",
        "val_dataset=test_dataset.skip(val_size)\n",
        "test_dataset=test_dataset.take(test_size)\n",
        "\n",
        "batch_size=128\n",
        "train_dataset=train_dataset.shuffle(buffer_size=1024).batch(batch_size)\n",
        "test_dataset=test_dataset.shuffle(buffer_size=1024).batch(batch_size)\n",
        "val_dataset=val_dataset.shuffle(buffer_size=1024).batch(batch_size)"
      ],
      "metadata": {
        "colab": {
          "base_uri": "https://localhost:8080/"
        },
        "id": "tm3n1vnLAsV2",
        "outputId": "e902b5a8-4fe0-4a1b-a418-980d15f77864"
      },
      "execution_count": null,
      "outputs": [
        {
          "output_type": "stream",
          "name": "stdout",
          "text": [
            "Train size,Test size,Val size 171 21 21\n"
          ]
        }
      ]
    },
    {
      "cell_type": "code",
      "source": [
        "#//Model \n",
        "inputs=keras.Input(shape=(5,),name='inputs')\n",
        "flat=keras.layers.Flatten()(inputs)\n",
        "x=layers.Dense(64,activation='sigmoid',name='dense_1')(flat)\n",
        "x=layers.Dense(64,activation='tanh',name='dense_2')(x)\n",
        "outputs=layers.Dense(2,activation='softmax',name=\"predn\")(x)\n",
        "\n",
        "model=keras.Model(inputs=inputs,outputs=outputs)\n",
        "\n",
        "optimizer='adam'\n",
        "loss=\"binary_crossentropy\"\n",
        "metrics_key='accuracy'\n",
        "epochs=150\n"
      ],
      "metadata": {
        "id": "0U2r4MIjC68S"
      },
      "execution_count": null,
      "outputs": []
    },
    {
      "cell_type": "code",
      "source": [
        "model.compile(loss=loss,optimizer=optimizer,metrics=[metrics_key])"
      ],
      "metadata": {
        "id": "hsJYGa5QF1bt"
      },
      "execution_count": null,
      "outputs": []
    },
    {
      "cell_type": "code",
      "source": [
        "#//Training\n",
        "tf.keras.backend.clear_session()\n",
        "history=model.fit(train_dataset,epochs=epochs,verbose=0,validation_data=val_dataset)\n",
        "plt.plot(history.history['accuracy'])\n",
        "plt.plot(history.history['val_accuracy'])\n",
        "plt.title('model accuracy')\n",
        "plt.ylabel('accuracy')\n",
        "plt.xlabel('epoch')\n",
        "plt.legend(['train-acc', 'val-acc'], loc='upper left')\n",
        "plt.show()\n"
      ],
      "metadata": {
        "colab": {
          "base_uri": "https://localhost:8080/",
          "height": 295
        },
        "id": "W0JdZyUCGAOy",
        "outputId": "e756c2e5-c12a-4cab-b230-3ece422bc125"
      },
      "execution_count": null,
      "outputs": [
        {
          "output_type": "display_data",
          "data": {
            "image/png": "[encoded data removed]",
            "text/plain": [
              "<Figure size 432x288 with 1 Axes>"
            ]
          },
          "metadata": {
            "needs_background": "light"
          }
        }
      ]
    },
    {
      "cell_type": "code",
      "source": [
        "plt.plot(history.history['loss'])\n",
        "plt.plot(history.history['val_loss'])\n",
        "plt.title('model loss')\n",
        "plt.ylabel('loss')\n",
        "plt.xlabel('epoch')\n",
        "plt.legend(['train', 'val'], loc='upper left')\n",
        "plt.show()"
      ],
      "metadata": {
        "colab": {
          "base_uri": "https://localhost:8080/",
          "height": 295
        },
        "id": "TexH8BEcH1tR",
        "outputId": "8a906227-5610-4e67-de46-a22e8af7738b"
      },
      "execution_count": null,
      "outputs": [
        {
          "output_type": "display_data",
          "data": {
            "image/png": "[encoded data removed]",
            "text/plain": [
              "<Figure size 432x288 with 1 Axes>"
            ]
          },
          "metadata": {
            "needs_background": "light"
          }
        }
      ]
    },
    {
      "cell_type": "code",
      "source": [
        "score = model.evaluate(test_dataset, verbose = 1) \n",
        "print('Test loss:', score[0]) \n",
        "print('Test accuracy:', score[1])"
      ],
      "metadata": {
        "colab": {
          "base_uri": "https://localhost:8080/"
        },
        "id": "LnwpyID_IOjq",
        "outputId": "1c85c8be-2271-49df-8f5f-59b30989f444"
      },
      "execution_count": null,
      "outputs": [
        {
          "output_type": "stream",
          "name": "stdout",
          "text": [
            "1/1 [==============================] - 0s 22ms/step - loss: 0.0913 - accuracy: 0.9524\n",
            "Test loss: 0.09128419309854507\n",
            "Test accuracy: 0.9523809552192688\n"
          ]
        }
      ]
    },
    {
      "cell_type": "code",
      "source": [
        ""
      ],
      "metadata": {
        "id": "QY_It5H3IX1s"
      },
      "execution_count": null,
      "outputs": []
    },
    {
      "cell_type": "code",
      "source": [
        "import pickle \n",
        "pickle.dump(model,open('model2.pkl','wb'))"
      ],
      "metadata": {
        "colab": {
          "base_uri": "https://localhost:8080/"
        },
        "id": "3DL7TJZNp2Qs",
        "outputId": "a352fac1-e9f4-4914-b8fc-289fb5b68407"
      },
      "execution_count": null,
      "outputs": [
        {
          "output_type": "stream",
          "name": "stdout",
          "text": [
            "INFO:tensorflow:Assets written to: ram://60a81570-5a10-45ef-bc4d-d4218bf46010/assets\n"
          ]
        }
      ]
    },
    {
      "cell_type": "code",
      "source": [
        "#Testing\n",
        "print(test_dataset)\n",
        "for element in test_dataset:\n",
        "  k = (element[0][0]).numpy()\n",
        "  j = (element[1][0]).numpy()\n",
        "  print(k)\n",
        "  print(k.shape)\n",
        "  print(j.shape)\n",
        "  print(k[np.newaxis,::].shape)\n",
        "  n=2\n",
        "  k=k.reshape(1,5).astype('float32')\n",
        "  pred = model.predict(k)\n",
        "  print(\"original\",j[1],\"Prediction \",np.argmax(pred))\n",
        "  print(\"Prediction List\",pred)\n",
        "  break\n"
      ],
      "metadata": {
        "colab": {
          "base_uri": "https://localhost:8080/"
        },
        "id": "27meGrKbItdg",
        "outputId": "7668453a-d5df-4300-faa1-1bbbe2f928a4"
      },
      "execution_count": null,
      "outputs": [
        {
          "output_type": "stream",
          "name": "stdout",
          "text": [
            "<BatchDataset shapes: ((None, 5), (None, 2)), types: (tf.float32, tf.float32)>\n",
            "[ 1.7428818   0.67511654  1.6205292  -1.7439017  -0.10341372]\n",
            "(5,)\n",
            "(2,)\n",
            "(1, 5)\n",
            "original 0.0 Prediction  0\n",
            "Prediction List [[0.60641044 0.3935896 ]]\n"
          ]
        }
      ]
    }
  ]
}